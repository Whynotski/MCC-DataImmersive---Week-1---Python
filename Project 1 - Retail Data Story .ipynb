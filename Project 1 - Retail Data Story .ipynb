{
 "cells": [
  {
   "cell_type": "markdown",
   "metadata": {},
   "source": [
    "# Data Science Immersive\n",
    "Project 1 - Laura Adam\n",
    "The Secondhand Rose Resale Shop and \n",
    "\n",
    "Project Goals - Select a public data and using python, Look for trends \n",
    "and stories in the data.  Prepare a presentation describing the findings."
   ]
  },
  {
   "cell_type": "markdown",
   "metadata": {},
   "source": [
    "Data Science Immersive\n",
    "Project 1 - Laura Adam\n",
    "The Secondhand Rose Resale Shop and \n",
    "\n",
    "Project Goals - Select a public data and using python, Look for trends \n",
    "and stories in the data.  Prepare a presentation describing the findings.\n",
    "\n",
    "At a minimum, I need data with an item number and a price.  Because the problem involves a consignment shop - I could add a consigner or supplier number.\n",
    "\n",
    "\n",
    "https://www.kaggle.com/vijayuv/onlineretail\n",
    "\n",
    "InvoiceNo\n",
    "StockCode\n",
    "Description\n",
    "Quantity\n",
    "InvoiceDate\n",
    "*UnitPrice\n",
    "*CustomerID\n",
    "Country\n",
    "\n",
    "https://www.kaggle.com/onlineauctions/online-auctions-dataset\n",
    "\n",
    "auctionid\n",
    "bid\n",
    "bidtime\n",
    "bidder\n",
    "bidderrate\n",
    "openbid\n",
    "*price\n",
    "*item\n",
    "auction_type\n",
    "\n",
    "\n",
    "Because I have a similar Java project due for another class,  I asked if I \n",
    "could complete the challenge in Python.  The teacher agreed.  So I looked for a data set that would apply to the following problem:  \n",
    "\n",
    "\n",
    "\n",
    "\n",
    "\n",
    "The Secondhand Rose Resale Shop is having a seven-day sale during which the price of any unsold item drops 10 percent each day. Design a class diagram showing the class, the application program, the relationship between the two, and multiplicity. Then write the Java code as described below. Be sure to follow the CSI 117 Style Criteria\n",
    " (Links to an external site.)\n",
    "Links to an external site.\n",
    " for naming conventions, class diagrams, pseudocode, keywords, and operators.\n",
    "An Inventory class that contains:\n",
    "an item number and the original price of the item. Include the following:\n",
    "A default constructor that initializes each attribute to some reasonable default value for a non-existent inventory item.\n",
    "Another constructor method that has a parameter for each data member, called the overloaded constructor.  This constructor initializes each attribute to the value provided when an object of this type is instantiated. Be sure to incorporate adequate error checking for all numeric attributes.\n",
    "Accessor and mutator methods for each attribute. Be sure to incorporate adequate error checking for all numeric attributes.\n",
    "Extra credit for including Javadoc comments.\n",
    " \n",
    "An application program that contains two methods: the main() module and the printSaleData()module.\n",
    "The main()module must do the following:\n",
    "create an Inventory object using the default constructor\n",
    "use a loop to get inventory items from the user. The user should enter the item number and the original price of the item. This loop should continue until the user indicates that they have no more items to enter. For each item entered by the user, the code inside the loop should do the following 2 items:\n",
    "set the attributes of the Inventory object by calling the appropriate method in the Inventory class for each item entered by the user\n",
    "send the Inventory items, one at a time, to the printSaleData() module for processing\n",
    "Extra credit for including Javadoc comments.\n",
    "The printSaleData()module must accept an Inventory object and produce a report that shows the item number and the price of an inventory item on each day of the sale, one through seven, using a loop. For example, an item with an original price of $10.00 costs 10 percent less, or $9.00, on the first day of the sale. On the second day of the sale, the same item is 10 percent less than $9.00, or $8.10.\n",
    "\n",
    "\n",
    "http://cascadealliance.us/wp-content/uploads/Thrift-store-white-paper-V.3-November-2017-.pdf\n"
   ]
  },
  {
   "cell_type": "code",
   "execution_count": null,
   "metadata": {
    "collapsed": true
   },
   "outputs": [],
   "source": []
  }
 ],
 "metadata": {
  "kernelspec": {
   "display_name": "Python 3",
   "language": "python",
   "name": "python3"
  },
  "language_info": {
   "codemirror_mode": {
    "name": "ipython",
    "version": 3
   },
   "file_extension": ".py",
   "mimetype": "text/x-python",
   "name": "python",
   "nbconvert_exporter": "python",
   "pygments_lexer": "ipython3",
   "version": "3.6.3"
  }
 },
 "nbformat": 4,
 "nbformat_minor": 2
}
